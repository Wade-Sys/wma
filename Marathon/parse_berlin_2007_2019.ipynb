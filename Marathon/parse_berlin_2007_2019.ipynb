{
 "cells": [
  {
   "cell_type": "code",
   "execution_count": 1,
   "source": [
    "import time\n",
    "from selenium import webdriver\n",
    "from selenium.webdriver.support.ui import WebDriverWait\n",
    "from selenium.webdriver.common.by import By\n",
    "from selenium.webdriver.support import expected_conditions as EC\n",
    "import numpy as np\n",
    "import pandas as pd"
   ],
   "outputs": [],
   "metadata": {}
  },
  {
   "cell_type": "code",
   "execution_count": null,
   "source": [
    "# Treiber laden\n",
    "driver = webdriver.Firefox()\n",
    "wait = WebDriverWait(driver, 10)"
   ],
   "outputs": [],
   "metadata": {}
  },
  {
   "cell_type": "code",
   "execution_count": null,
   "source": [
    "\n",
    "# Seite laden\n",
    "driver.get(\"https://www.bmw-berlin-marathon.com/impressionen/statistik-und-geschichte/ergebnisarchiv/\")\n",
    "time.sleep(3)\n",
    "# Cookies bestaetigen\n",
    "driver.find_element_by_xpath(\"//button[@aria-label='Akzeptiere alle']\").click()\n",
    "time.sleep(2)"
   ],
   "outputs": [],
   "metadata": {}
  },
  {
   "cell_type": "code",
   "execution_count": null,
   "source": [
    "# Jahre die geparsed werden sollen\n",
    "years = list(range(2007,2020))"
   ],
   "outputs": [],
   "metadata": {}
  },
  {
   "cell_type": "code",
   "execution_count": null,
   "source": [
    "# Alle Jahre mit den internen Values des Dropdownfeldes ermittelnt\n",
    "# Die Values werden benoetigt um spaeter die jeweiligen Jahr auszuwaehlen\n",
    "event = driver.find_element_by_xpath(\"//div[@id='scc_timing_21058']//select[@class='events border-input']\")\n",
    "options = event.find_elements_by_tag_name(\"option\")\n",
    "# Nur Values zu den ausgeweahlten Jahren ermitteln\n",
    "dict_events = {}\n",
    "for option in options:\n",
    "    year = int(option.text[0:5])\n",
    "    if year in years:\n",
    "        years.remove(year)\n",
    "        dict_events[year] = option.get_attribute(\"value\")\n",
    "    if len(years) == 0:\n",
    "        break"
   ],
   "outputs": [],
   "metadata": {}
  },
  {
   "cell_type": "code",
   "execution_count": null,
   "source": [
    "# Leeres Dataframe anlegen\n",
    "df_results = pd.DataFrame(pd.DataFrame(\n",
    "    columns=['Jahr', 'Platz','Vorname', 'Nachname', 'NAT', 'SN', 'Verein','Geschlecht','Netto', 'Brutto','5KM','10KM','15KM','20KM','HM','25KM','30KM','35KM','40KM'])\n",
    "    ,dtype=str)"
   ],
   "outputs": [],
   "metadata": {}
  },
  {
   "cell_type": "code",
   "execution_count": null,
   "source": [
    "# Ueber die Jahre iterieren und Werte speichern\n",
    "for year in dict_events:\n",
    "    # Jahr auswaehlen\n",
    "    xpath_event_value = \"//option[@value='\" + dict_events[year] + \"']\"\n",
    "    event.find_element_by_xpath(xpath_event_value).click()\n",
    "    time.sleep(3)\n",
    "    # Geschlecht filtern\n",
    "    for ges in ['M', 'W']:\n",
    "        # Filter - Geschlecht setzen\n",
    "        event.find_element_by_xpath(\"//table[1]/thead[1]/tr[@class='filter']/th[8]/input[1]\").send_keys(ges)\n",
    "        time.sleep(3)\n",
    "        # Ueber die Ergebnisse iterieren: Anzahl der Ergebniss x 2:\n",
    "        for row in range(1,20,2):\n",
    "            xpath_result_row = \"//table[1]/tbody[1]/tr[\" + str(row) + \"]\"\n",
    "            xpath_result_row_zz = xpath_result_row + \"/td[1]\"\n",
    "            # Gesamtzeiten + Alle Attribute speichern\n",
    "            row_temp = {\n",
    "                'Jahr' : year\n",
    "                ,'Platz' : event.find_element_by_xpath(xpath_result_row + \"/td[2]\").text\n",
    "                ,'Vorname' : event.find_element_by_xpath(xpath_result_row + \"/td[3]\").text\n",
    "                ,'Nachname' : event.find_element_by_xpath(xpath_result_row + \"/td[4]\").text\n",
    "                ,'NAT' : event.find_element_by_xpath(xpath_result_row + \"/td[5]\").text\n",
    "                ,'SN' : event.find_element_by_xpath(xpath_result_row + \"/td[6]\").text\n",
    "                ,'Verein' : event.find_element_by_xpath(xpath_result_row + \"/td[7]\").text\n",
    "                ,'Geschlecht' : event.find_element_by_xpath(xpath_result_row + \"/td[8]\").text\n",
    "                ,'Netto' : event.find_element_by_xpath(xpath_result_row + \"/td[9]\").text\n",
    "                ,'Brutto' : event.find_element_by_xpath(xpath_result_row + \"/td[10]\").text\n",
    "            }\n",
    "            #print(row_temp)\n",
    "            # Zwischnezeiten anzeigen    \n",
    "            event.find_element_by_xpath(xpath_result_row_zz).click()\n",
    "            time.sleep(3)\n",
    "            # Zwischenzeiten zum Gesamtergebniss hizufuegen\n",
    "            for zzeit in range(1,10):\n",
    "                zz_path_desc = \"//table[1]/tbody[1]/tr[\" + str(row+1) + \"]/td[1]/dl[1]/dd[1]/ul[1]/li[\" + str(zzeit) + \"]/span[1]\"\n",
    "                zz_path_value = \"//table[1]/tbody[1]/tr[\" + str(row+1) + \"]/td[1]/dl[1]/dd[1]/ul[1]/li[\" + str(zzeit) + \"]/span[2]\"\n",
    "                row_temp.update({\n",
    "                    event.find_element_by_xpath(zz_path_desc).text.upper() : event.find_element_by_xpath(zz_path_value).text\n",
    "                })\n",
    "                #print(event.find_element_by_xpath(zz_path_desc).text + \" | \" + event.find_element_by_xpath(zz_path_value).text)\n",
    "            # Ins Dataframe speichern\n",
    "            df_results = df_results.append(row_temp, ignore_index=True)\n",
    "        # Filter - Geschlecht entfernen\n",
    "        event.find_element_by_xpath(\"//table[1]/thead[1]/tr[@class='filter']/th[8]/input[1]\").clear()\n",
    "        time.sleep(3)\n",
    "\n",
    "    "
   ],
   "outputs": [],
   "metadata": {}
  },
  {
   "cell_type": "code",
   "execution_count": null,
   "source": [
    "# Ergebnisse ausgeben\n",
    "# print(df_results.head())"
   ],
   "outputs": [],
   "metadata": {}
  },
  {
   "cell_type": "code",
   "execution_count": null,
   "source": [
    "# Treiber schliessen\n",
    "driver.close()"
   ],
   "outputs": [],
   "metadata": {}
  },
  {
   "cell_type": "code",
   "execution_count": null,
   "source": [
    "# Daten in die CSV Exportieren\n",
    "file_path = '/home/paul/Downloads/DatenMA/Berlin/'\n",
    "file_name = 'daten_wmm_berlin.csv'\n",
    "\n",
    "df_results.to_csv(file_path+file_name, sep=';', index=False)"
   ],
   "outputs": [],
   "metadata": {}
  }
 ],
 "metadata": {
  "interpreter": {
   "hash": "2f2ef7edd20578ec9754dace98dfc677349137fe4e064a9a45fddd79cef6b16b"
  },
  "kernelspec": {
   "name": "python3",
   "display_name": "Python 3.8.8 64-bit ('base': conda)"
  },
  "language_info": {
   "name": "python",
   "version": "3.8.8",
   "mimetype": "text/x-python",
   "codemirror_mode": {
    "name": "ipython",
    "version": 3
   },
   "pygments_lexer": "ipython3",
   "nbconvert_exporter": "python",
   "file_extension": ".py"
  },
  "orig_nbformat": 4
 },
 "nbformat": 4,
 "nbformat_minor": 2
}