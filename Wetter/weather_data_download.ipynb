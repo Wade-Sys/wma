{
 "metadata": {
  "language_info": {
   "codemirror_mode": {
    "name": "ipython",
    "version": 3
   },
   "file_extension": ".py",
   "mimetype": "text/x-python",
   "name": "python",
   "nbconvert_exporter": "python",
   "pygments_lexer": "ipython3",
   "version": "3.7.4"
  },
  "orig_nbformat": 2,
  "kernelspec": {
   "name": "python3",
   "display_name": "Python 3.7.4 64-bit ('base': conda)"
  },
  "interpreter": {
   "hash": "2f2ef7edd20578ec9754dace98dfc677349137fe4e064a9a45fddd79cef6b16b"
  }
 },
 "nbformat": 4,
 "nbformat_minor": 2,
 "cells": [
  {
   "cell_type": "code",
   "execution_count": 30,
   "source": [
    "import pandas as pd\n",
    "import os\n",
    "from urllib import request\n",
    "import time"
   ],
   "outputs": [],
   "metadata": {}
  },
  {
   "cell_type": "code",
   "execution_count": 36,
   "source": [
    "# Wetterstation-IDs der jeweiligen Städte (manuell ermittelt)\n",
    "\n",
    "stations_id_berlin = [\n",
    " '10382099999'\n",
    ",'10385099999'    \n",
    "]\n",
    "\n",
    "stations_id_tokyo = [\n",
    " \"47671099999\"\n",
    ",\"47662099999\"\n",
    ",\"47687099999\"\n",
    "]\n",
    "\n",
    "stations_id_london = [\n",
    " \"03768399999\"\n",
    "]\n",
    "\n",
    "stations_id_newyork = [\n",
    " \"72505394728\"\n",
    ",\"72502014734\"\n",
    "]\n",
    "\n",
    "stations_id_chicago = [\n",
    "\"72534014819\"\n",
    "]"
   ],
   "outputs": [],
   "metadata": {}
  },
  {
   "cell_type": "code",
   "execution_count": 37,
   "source": [
    "# Funktion zum Herunterladen der einzelnen Dateien: Pro Jahr und Station-ID\n",
    "def download_file(src, tgt, year, station_ids):\n",
    "    # Quellpfad mit \"Jahr\"\n",
    "    year_url = src + str(year) + '/'\n",
    "    # Über die Stationen iterieren und Daten herunterladen\n",
    "    for id in station_ids:\n",
    "        full_url = year_url + id + '.csv' # Quell-Url\n",
    "        full_local_file = tgt + id + '_' + str(year) + '.csv' # Ziel-Url\n",
    "        try:\n",
    "            request.urlretrieve(full_url, full_local_file) # Datei herunterladen            \n",
    "        except request.HTTPError:\n",
    "            # Falls Datei nicht vorhanden, dann überspringen\n",
    "            print('Nicht gefunden: ' + full_url)"
   ],
   "outputs": [],
   "metadata": {}
  },
  {
   "cell_type": "code",
   "execution_count": 38,
   "source": [
    "# Jahre, Quell- und Ziel-URL definieren\n",
    "years = range(2007,2020)\n",
    "main_url = 'https://www.ncei.noaa.gov/data/global-hourly/access/'\n",
    "main_local_path = '/home/paul/python_projects/masterthesis/data/'"
   ],
   "outputs": [],
   "metadata": {}
  },
  {
   "cell_type": "code",
   "execution_count": 39,
   "source": [
    "# Daten herunterladen: Berlin\n",
    "for year in years:\n",
    "    download_file(main_url, main_local_path, year, stations_id_berlin)\n"
   ],
   "outputs": [
    {
     "output_type": "stream",
     "name": "stdout",
     "text": [
      "Nicht gefunden: https://www.ncei.noaa.gov/data/global-hourly/access/2007/10381099999.csv\n",
      "Nicht gefunden: https://www.ncei.noaa.gov/data/global-hourly/access/2008/10381099999.csv\n",
      "Nicht gefunden: https://www.ncei.noaa.gov/data/global-hourly/access/2009/10381099999.csv\n",
      "Nicht gefunden: https://www.ncei.noaa.gov/data/global-hourly/access/2010/10381099999.csv\n",
      "Nicht gefunden: https://www.ncei.noaa.gov/data/global-hourly/access/2011/10381099999.csv\n",
      "Nicht gefunden: https://www.ncei.noaa.gov/data/global-hourly/access/2012/10381099999.csv\n",
      "Nicht gefunden: https://www.ncei.noaa.gov/data/global-hourly/access/2013/10381099999.csv\n",
      "Nicht gefunden: https://www.ncei.noaa.gov/data/global-hourly/access/2014/10381099999.csv\n",
      "Nicht gefunden: https://www.ncei.noaa.gov/data/global-hourly/access/2015/10381099999.csv\n",
      "Nicht gefunden: https://www.ncei.noaa.gov/data/global-hourly/access/2016/10381099999.csv\n",
      "Nicht gefunden: https://www.ncei.noaa.gov/data/global-hourly/access/2017/10381099999.csv\n",
      "Nicht gefunden: https://www.ncei.noaa.gov/data/global-hourly/access/2018/10381099999.csv\n",
      "Nicht gefunden: https://www.ncei.noaa.gov/data/global-hourly/access/2019/10381099999.csv\n"
     ]
    }
   ],
   "metadata": {}
  },
  {
   "cell_type": "code",
   "execution_count": null,
   "source": [
    "# Daten herunterladen: Tokyo\n",
    "for year in years:\n",
    "    download_file(main_url, main_local_path, year, stations_id_tokyo) \n"
   ],
   "outputs": [],
   "metadata": {}
  },
  {
   "cell_type": "code",
   "execution_count": null,
   "source": [
    "# Daten herunterladen: London\n",
    "for year in years:\n",
    "    download_file(main_url, main_local_path, year, stations_id_london) \n"
   ],
   "outputs": [],
   "metadata": {}
  },
  {
   "cell_type": "code",
   "execution_count": null,
   "source": [
    "# Daten herunterladen: NewYork\n",
    "for year in years:\n",
    "    download_file(main_url, main_local_path, year, stations_id_newyork) \n"
   ],
   "outputs": [],
   "metadata": {}
  },
  {
   "cell_type": "code",
   "execution_count": null,
   "source": [
    "# Daten herunterladen: Chicago\n",
    "for year in years:\n",
    "    download_file(main_url, main_local_path, year, stations_id_chicago) \n"
   ],
   "outputs": [],
   "metadata": {}
  }
 ]
}