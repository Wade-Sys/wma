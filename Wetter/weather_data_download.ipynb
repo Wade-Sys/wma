{
 "cells": [
  {
   "cell_type": "code",
   "execution_count": 1,
   "metadata": {},
   "outputs": [],
   "source": [
    "import pandas as pd\n",
    "import os\n",
    "from urllib import request\n",
    "import time"
   ]
  },
  {
   "cell_type": "code",
   "execution_count": 2,
   "metadata": {},
   "outputs": [],
   "source": [
    "# Wetterstation-IDs der jeweiligen Städte (manuell ermittelt)\n",
    "\n",
    "stations_id_berlin = [\n",
    " '10382099999'\n",
    ",'10385099999'    \n",
    "]\n",
    "\n",
    "stations_id_tokyo = [\n",
    " \"47671099999\"\n",
    ",\"47662099999\"\n",
    ",\"47687099999\"\n",
    "]\n",
    "\n",
    "stations_id_london = [\n",
    " \"03768399999\"\n",
    "]\n",
    "\n",
    "stations_id_newyork = [\n",
    " \"72505394728\"\n",
    ",\"72502014734\"\n",
    "]\n",
    "\n",
    "stations_id_chicago = [\n",
    "\"72534014819\"\n",
    "]"
   ]
  },
  {
   "cell_type": "code",
   "execution_count": 3,
   "metadata": {},
   "outputs": [],
   "source": [
    "# Funktion zum Herunterladen der einzelnen Dateien: Pro Jahr und Station-ID\n",
    "def download_file(src, tgt, year, station_ids):\n",
    "    # Quellpfad mit \"Jahr\"\n",
    "    year_url = src + str(year) + '/'\n",
    "    # Über die Stationen iterieren und Daten herunterladen\n",
    "    for id in station_ids:\n",
    "        full_url = year_url + id + '.csv' # Quell-Url\n",
    "        full_local_file = tgt + id + '_' + str(year) + '.csv' # Ziel-Url\n",
    "        try:\n",
    "            request.urlretrieve(full_url, full_local_file) # Datei herunterladen            \n",
    "        except request.HTTPError:\n",
    "            # Falls Datei nicht vorhanden, dann überspringen\n",
    "            print('Nicht gefunden: ' + full_url)"
   ]
  },
  {
   "cell_type": "code",
   "execution_count": 4,
   "metadata": {},
   "outputs": [],
   "source": [
    "# Jahre, Quell- und Ziel-URL definieren\n",
    "years = range(2007,2020)\n",
    "main_url = 'https://www.ncei.noaa.gov/data/global-hourly/access/'\n",
    "main_local_path = '/home/paul/python_projects/masterthesis/wma/data/wetter/downloaded/'"
   ]
  },
  {
   "cell_type": "code",
   "execution_count": 5,
   "metadata": {},
   "outputs": [],
   "source": [
    "# Daten herunterladen: Berlin\n",
    "for year in years:\n",
    "    download_file(main_url, main_local_path, year, stations_id_berlin)\n"
   ]
  },
  {
   "cell_type": "code",
   "execution_count": 6,
   "metadata": {},
   "outputs": [],
   "source": [
    "# Daten herunterladen: Tokyo\n",
    "for year in years:\n",
    "    download_file(main_url, main_local_path, year, stations_id_tokyo) \n"
   ]
  },
  {
   "cell_type": "code",
   "execution_count": 7,
   "metadata": {},
   "outputs": [],
   "source": [
    "# Daten herunterladen: London\n",
    "for year in years:\n",
    "    download_file(main_url, main_local_path, year, stations_id_london) \n"
   ]
  },
  {
   "cell_type": "code",
   "execution_count": 8,
   "metadata": {},
   "outputs": [],
   "source": [
    "# Daten herunterladen: NewYork\n",
    "for year in years:\n",
    "    download_file(main_url, main_local_path, year, stations_id_newyork) \n"
   ]
  },
  {
   "cell_type": "code",
   "execution_count": 9,
   "metadata": {},
   "outputs": [],
   "source": [
    "# Daten herunterladen: Chicago\n",
    "for year in years:\n",
    "    download_file(main_url, main_local_path, year, stations_id_chicago) \n"
   ]
  }
 ],
 "metadata": {
  "interpreter": {
   "hash": "a170f962d07ed8515a1e0cfe90051c8c49c07a10f515ca6de22ae850428164e9"
  },
  "kernelspec": {
   "display_name": "Python 3.7.11 64-bit ('base': conda)",
   "name": "python3"
  },
  "language_info": {
   "codemirror_mode": {
    "name": "ipython",
    "version": 3
   },
   "file_extension": ".py",
   "mimetype": "text/x-python",
   "name": "python",
   "nbconvert_exporter": "python",
   "pygments_lexer": "ipython3",
   "version": "3.7.11"
  },
  "orig_nbformat": 2
 },
 "nbformat": 4,
 "nbformat_minor": 2
}
